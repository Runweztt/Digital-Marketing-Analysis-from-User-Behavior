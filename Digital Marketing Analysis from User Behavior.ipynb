{
 "cells": [
  {
   "cell_type": "code",
   "execution_count": 76,
   "id": "3c5c4feb-45b9-4c78-a190-b2eb7df9404b",
   "metadata": {},
   "outputs": [],
   "source": [
    "import pandas as pd\n",
    "import seaborn as sns\n",
    "import matplotlib.pyplot as plt\n",
    "import numpy as np   \n"
   ]
  },
  {
   "cell_type": "code",
   "execution_count": 77,
   "id": "ddd5e779-344a-41c5-9e26-46b3ad5e0a60",
   "metadata": {
    "scrolled": true
   },
   "outputs": [
    {
     "data": {
      "text/html": [
       "<div>\n",
       "<style scoped>\n",
       "    .dataframe tbody tr th:only-of-type {\n",
       "        vertical-align: middle;\n",
       "    }\n",
       "\n",
       "    .dataframe tbody tr th {\n",
       "        vertical-align: top;\n",
       "    }\n",
       "\n",
       "    .dataframe thead th {\n",
       "        text-align: right;\n",
       "    }\n",
       "</style>\n",
       "<table border=\"1\" class=\"dataframe\">\n",
       "  <thead>\n",
       "    <tr style=\"text-align: right;\">\n",
       "      <th></th>\n",
       "      <th>Date</th>\n",
       "      <th>User_ID</th>\n",
       "      <th>Session_Duration</th>\n",
       "      <th>Page_Views</th>\n",
       "      <th>Source</th>\n",
       "      <th>Medium</th>\n",
       "      <th>Campaign</th>\n",
       "      <th>Device_Category</th>\n",
       "      <th>Country</th>\n",
       "      <th>New_User</th>\n",
       "      <th>Conversions</th>\n",
       "      <th>Revenue</th>\n",
       "    </tr>\n",
       "  </thead>\n",
       "  <tbody>\n",
       "    <tr>\n",
       "      <th>0</th>\n",
       "      <td>6/6/2023</td>\n",
       "      <td>1</td>\n",
       "      <td>448</td>\n",
       "      <td>7</td>\n",
       "      <td>Referral</td>\n",
       "      <td>Direct</td>\n",
       "      <td>Spring Promo</td>\n",
       "      <td>Tablet</td>\n",
       "      <td>USA</td>\n",
       "      <td>1</td>\n",
       "      <td>2</td>\n",
       "      <td>124</td>\n",
       "    </tr>\n",
       "    <tr>\n",
       "      <th>1</th>\n",
       "      <td>6/19/2023</td>\n",
       "      <td>2</td>\n",
       "      <td>94</td>\n",
       "      <td>1</td>\n",
       "      <td>Referral</td>\n",
       "      <td>Social Media</td>\n",
       "      <td>Summer Sale</td>\n",
       "      <td>Desktop</td>\n",
       "      <td>India</td>\n",
       "      <td>1</td>\n",
       "      <td>1</td>\n",
       "      <td>130</td>\n",
       "    </tr>\n",
       "    <tr>\n",
       "      <th>2</th>\n",
       "      <td>6/29/2023</td>\n",
       "      <td>3</td>\n",
       "      <td>595</td>\n",
       "      <td>6</td>\n",
       "      <td>Direct</td>\n",
       "      <td>Referral</td>\n",
       "      <td>Winter Campaign</td>\n",
       "      <td>Tablet</td>\n",
       "      <td>India</td>\n",
       "      <td>1</td>\n",
       "      <td>1</td>\n",
       "      <td>136</td>\n",
       "    </tr>\n",
       "    <tr>\n",
       "      <th>3</th>\n",
       "      <td>6/1/2023</td>\n",
       "      <td>4</td>\n",
       "      <td>263</td>\n",
       "      <td>9</td>\n",
       "      <td>Social</td>\n",
       "      <td>Organic Search</td>\n",
       "      <td>NaN</td>\n",
       "      <td>Tablet</td>\n",
       "      <td>Australia</td>\n",
       "      <td>1</td>\n",
       "      <td>0</td>\n",
       "      <td>0</td>\n",
       "    </tr>\n",
       "    <tr>\n",
       "      <th>4</th>\n",
       "      <td>6/30/2023</td>\n",
       "      <td>5</td>\n",
       "      <td>242</td>\n",
       "      <td>1</td>\n",
       "      <td>Referral</td>\n",
       "      <td>Referral</td>\n",
       "      <td>Spring Promo</td>\n",
       "      <td>Tablet</td>\n",
       "      <td>USA</td>\n",
       "      <td>0</td>\n",
       "      <td>0</td>\n",
       "      <td>0</td>\n",
       "    </tr>\n",
       "    <tr>\n",
       "      <th>...</th>\n",
       "      <td>...</td>\n",
       "      <td>...</td>\n",
       "      <td>...</td>\n",
       "      <td>...</td>\n",
       "      <td>...</td>\n",
       "      <td>...</td>\n",
       "      <td>...</td>\n",
       "      <td>...</td>\n",
       "      <td>...</td>\n",
       "      <td>...</td>\n",
       "      <td>...</td>\n",
       "      <td>...</td>\n",
       "    </tr>\n",
       "    <tr>\n",
       "      <th>9995</th>\n",
       "      <td>6/13/2023</td>\n",
       "      <td>9996</td>\n",
       "      <td>219</td>\n",
       "      <td>9</td>\n",
       "      <td>Referral</td>\n",
       "      <td>Organic Search</td>\n",
       "      <td>Winter Campaign</td>\n",
       "      <td>Tablet</td>\n",
       "      <td>India</td>\n",
       "      <td>1</td>\n",
       "      <td>0</td>\n",
       "      <td>0</td>\n",
       "    </tr>\n",
       "    <tr>\n",
       "      <th>9996</th>\n",
       "      <td>6/3/2023</td>\n",
       "      <td>9997</td>\n",
       "      <td>151</td>\n",
       "      <td>4</td>\n",
       "      <td>Organic</td>\n",
       "      <td>Direct</td>\n",
       "      <td>Summer Sale</td>\n",
       "      <td>Mobile</td>\n",
       "      <td>UK</td>\n",
       "      <td>0</td>\n",
       "      <td>1</td>\n",
       "      <td>135</td>\n",
       "    </tr>\n",
       "    <tr>\n",
       "      <th>9997</th>\n",
       "      <td>6/22/2023</td>\n",
       "      <td>9998</td>\n",
       "      <td>462</td>\n",
       "      <td>6</td>\n",
       "      <td>Social</td>\n",
       "      <td>Social Media</td>\n",
       "      <td>Summer Sale</td>\n",
       "      <td>Desktop</td>\n",
       "      <td>India</td>\n",
       "      <td>1</td>\n",
       "      <td>2</td>\n",
       "      <td>188</td>\n",
       "    </tr>\n",
       "    <tr>\n",
       "      <th>9998</th>\n",
       "      <td>6/18/2023</td>\n",
       "      <td>9999</td>\n",
       "      <td>357</td>\n",
       "      <td>6</td>\n",
       "      <td>Referral</td>\n",
       "      <td>Social Media</td>\n",
       "      <td>Spring Promo</td>\n",
       "      <td>Mobile</td>\n",
       "      <td>France</td>\n",
       "      <td>1</td>\n",
       "      <td>2</td>\n",
       "      <td>268</td>\n",
       "    </tr>\n",
       "    <tr>\n",
       "      <th>9999</th>\n",
       "      <td>6/19/2023</td>\n",
       "      <td>10000</td>\n",
       "      <td>273</td>\n",
       "      <td>1</td>\n",
       "      <td>Organic</td>\n",
       "      <td>Social Media</td>\n",
       "      <td>NaN</td>\n",
       "      <td>Mobile</td>\n",
       "      <td>Australia</td>\n",
       "      <td>1</td>\n",
       "      <td>2</td>\n",
       "      <td>174</td>\n",
       "    </tr>\n",
       "  </tbody>\n",
       "</table>\n",
       "<p>10000 rows × 12 columns</p>\n",
       "</div>"
      ],
      "text/plain": [
       "           Date  User_ID  Session_Duration  Page_Views    Source  \\\n",
       "0      6/6/2023        1               448           7  Referral   \n",
       "1     6/19/2023        2                94           1  Referral   \n",
       "2     6/29/2023        3               595           6    Direct   \n",
       "3      6/1/2023        4               263           9    Social   \n",
       "4     6/30/2023        5               242           1  Referral   \n",
       "...         ...      ...               ...         ...       ...   \n",
       "9995  6/13/2023     9996               219           9  Referral   \n",
       "9996   6/3/2023     9997               151           4   Organic   \n",
       "9997  6/22/2023     9998               462           6    Social   \n",
       "9998  6/18/2023     9999               357           6  Referral   \n",
       "9999  6/19/2023    10000               273           1   Organic   \n",
       "\n",
       "              Medium         Campaign Device_Category    Country  New_User  \\\n",
       "0             Direct     Spring Promo          Tablet        USA         1   \n",
       "1       Social Media      Summer Sale         Desktop      India         1   \n",
       "2           Referral  Winter Campaign          Tablet      India         1   \n",
       "3     Organic Search              NaN          Tablet  Australia         1   \n",
       "4           Referral     Spring Promo          Tablet        USA         0   \n",
       "...              ...              ...             ...        ...       ...   \n",
       "9995  Organic Search  Winter Campaign          Tablet      India         1   \n",
       "9996          Direct      Summer Sale          Mobile         UK         0   \n",
       "9997    Social Media      Summer Sale         Desktop      India         1   \n",
       "9998    Social Media     Spring Promo          Mobile     France         1   \n",
       "9999    Social Media              NaN          Mobile  Australia         1   \n",
       "\n",
       "      Conversions  Revenue  \n",
       "0               2      124  \n",
       "1               1      130  \n",
       "2               1      136  \n",
       "3               0        0  \n",
       "4               0        0  \n",
       "...           ...      ...  \n",
       "9995            0        0  \n",
       "9996            1      135  \n",
       "9997            2      188  \n",
       "9998            2      268  \n",
       "9999            2      174  \n",
       "\n",
       "[10000 rows x 12 columns]"
      ]
     },
     "execution_count": 77,
     "metadata": {},
     "output_type": "execute_result"
    }
   ],
   "source": [
    "df = pd.read_csv(r\"C:\\Users\\Amari\\Downloads\\archive (2)\\web_marketing_data.csv\", encoding='latin1')\n",
    "df"
   ]
  },
  {
   "cell_type": "code",
   "execution_count": 78,
   "id": "4a4def66-56d4-4290-9ea4-494bbc2de26f",
   "metadata": {},
   "outputs": [
    {
     "name": "stdout",
     "output_type": "stream",
     "text": [
      "<class 'pandas.core.frame.DataFrame'>\n",
      "RangeIndex: 10000 entries, 0 to 9999\n",
      "Data columns (total 12 columns):\n",
      " #   Column            Non-Null Count  Dtype \n",
      "---  ------            --------------  ----- \n",
      " 0   Date              10000 non-null  object\n",
      " 1   User_ID           10000 non-null  int64 \n",
      " 2   Session_Duration  10000 non-null  int64 \n",
      " 3   Page_Views        10000 non-null  int64 \n",
      " 4   Source            10000 non-null  object\n",
      " 5   Medium            10000 non-null  object\n",
      " 6   Campaign          7510 non-null   object\n",
      " 7   Device_Category   10000 non-null  object\n",
      " 8   Country           10000 non-null  object\n",
      " 9   New_User          10000 non-null  int64 \n",
      " 10  Conversions       10000 non-null  int64 \n",
      " 11  Revenue           10000 non-null  int64 \n",
      "dtypes: int64(6), object(6)\n",
      "memory usage: 937.6+ KB\n"
     ]
    }
   ],
   "source": [
    "df.info()"
   ]
  },
  {
   "cell_type": "code",
   "execution_count": 79,
   "id": "0fa56b1c-3f65-400d-aa22-21ca6d052093",
   "metadata": {
    "scrolled": true
   },
   "outputs": [
    {
     "data": {
      "text/html": [
       "<div>\n",
       "<style scoped>\n",
       "    .dataframe tbody tr th:only-of-type {\n",
       "        vertical-align: middle;\n",
       "    }\n",
       "\n",
       "    .dataframe tbody tr th {\n",
       "        vertical-align: top;\n",
       "    }\n",
       "\n",
       "    .dataframe thead th {\n",
       "        text-align: right;\n",
       "    }\n",
       "</style>\n",
       "<table border=\"1\" class=\"dataframe\">\n",
       "  <thead>\n",
       "    <tr style=\"text-align: right;\">\n",
       "      <th></th>\n",
       "      <th>User_ID</th>\n",
       "      <th>Session_Duration</th>\n",
       "      <th>Page_Views</th>\n",
       "      <th>New_User</th>\n",
       "      <th>Conversions</th>\n",
       "      <th>Revenue</th>\n",
       "    </tr>\n",
       "  </thead>\n",
       "  <tbody>\n",
       "    <tr>\n",
       "      <th>count</th>\n",
       "      <td>10000.00000</td>\n",
       "      <td>10000.000000</td>\n",
       "      <td>10000.000000</td>\n",
       "      <td>10000.000000</td>\n",
       "      <td>10000.000000</td>\n",
       "      <td>10000.000000</td>\n",
       "    </tr>\n",
       "    <tr>\n",
       "      <th>mean</th>\n",
       "      <td>5000.50000</td>\n",
       "      <td>331.592900</td>\n",
       "      <td>5.459400</td>\n",
       "      <td>0.494900</td>\n",
       "      <td>1.508600</td>\n",
       "      <td>151.278900</td>\n",
       "    </tr>\n",
       "    <tr>\n",
       "      <th>std</th>\n",
       "      <td>2886.89568</td>\n",
       "      <td>155.463779</td>\n",
       "      <td>2.865619</td>\n",
       "      <td>0.499999</td>\n",
       "      <td>1.114383</td>\n",
       "      <td>124.741268</td>\n",
       "    </tr>\n",
       "    <tr>\n",
       "      <th>min</th>\n",
       "      <td>1.00000</td>\n",
       "      <td>60.000000</td>\n",
       "      <td>1.000000</td>\n",
       "      <td>0.000000</td>\n",
       "      <td>0.000000</td>\n",
       "      <td>0.000000</td>\n",
       "    </tr>\n",
       "    <tr>\n",
       "      <th>25%</th>\n",
       "      <td>2500.75000</td>\n",
       "      <td>197.000000</td>\n",
       "      <td>3.000000</td>\n",
       "      <td>0.000000</td>\n",
       "      <td>1.000000</td>\n",
       "      <td>52.000000</td>\n",
       "    </tr>\n",
       "    <tr>\n",
       "      <th>50%</th>\n",
       "      <td>5000.50000</td>\n",
       "      <td>334.000000</td>\n",
       "      <td>5.000000</td>\n",
       "      <td>0.000000</td>\n",
       "      <td>1.000000</td>\n",
       "      <td>134.000000</td>\n",
       "    </tr>\n",
       "    <tr>\n",
       "      <th>75%</th>\n",
       "      <td>7500.25000</td>\n",
       "      <td>465.000000</td>\n",
       "      <td>8.000000</td>\n",
       "      <td>1.000000</td>\n",
       "      <td>3.000000</td>\n",
       "      <td>242.000000</td>\n",
       "    </tr>\n",
       "    <tr>\n",
       "      <th>max</th>\n",
       "      <td>10000.00000</td>\n",
       "      <td>600.000000</td>\n",
       "      <td>10.000000</td>\n",
       "      <td>1.000000</td>\n",
       "      <td>3.000000</td>\n",
       "      <td>450.000000</td>\n",
       "    </tr>\n",
       "  </tbody>\n",
       "</table>\n",
       "</div>"
      ],
      "text/plain": [
       "           User_ID  Session_Duration    Page_Views      New_User  \\\n",
       "count  10000.00000      10000.000000  10000.000000  10000.000000   \n",
       "mean    5000.50000        331.592900      5.459400      0.494900   \n",
       "std     2886.89568        155.463779      2.865619      0.499999   \n",
       "min        1.00000         60.000000      1.000000      0.000000   \n",
       "25%     2500.75000        197.000000      3.000000      0.000000   \n",
       "50%     5000.50000        334.000000      5.000000      0.000000   \n",
       "75%     7500.25000        465.000000      8.000000      1.000000   \n",
       "max    10000.00000        600.000000     10.000000      1.000000   \n",
       "\n",
       "        Conversions       Revenue  \n",
       "count  10000.000000  10000.000000  \n",
       "mean       1.508600    151.278900  \n",
       "std        1.114383    124.741268  \n",
       "min        0.000000      0.000000  \n",
       "25%        1.000000     52.000000  \n",
       "50%        1.000000    134.000000  \n",
       "75%        3.000000    242.000000  \n",
       "max        3.000000    450.000000  "
      ]
     },
     "execution_count": 79,
     "metadata": {},
     "output_type": "execute_result"
    }
   ],
   "source": [
    "df.describe()"
   ]
  },
  {
   "cell_type": "code",
   "execution_count": 80,
   "id": "b41e3be0-a79e-47a0-bed1-3097cbddbdf4",
   "metadata": {},
   "outputs": [
    {
     "data": {
      "text/plain": [
       "0       False\n",
       "1       False\n",
       "2       False\n",
       "3       False\n",
       "4       False\n",
       "        ...  \n",
       "9995    False\n",
       "9996    False\n",
       "9997    False\n",
       "9998    False\n",
       "9999    False\n",
       "Length: 10000, dtype: bool"
      ]
     },
     "execution_count": 80,
     "metadata": {},
     "output_type": "execute_result"
    }
   ],
   "source": [
    "df.duplicated()"
   ]
  },
  {
   "cell_type": "code",
   "execution_count": 81,
   "id": "0e02a7c8-389a-4b3f-b91f-b6d10d357715",
   "metadata": {},
   "outputs": [
    {
     "data": {
      "text/plain": [
       "Date                   30\n",
       "User_ID             10000\n",
       "Session_Duration      541\n",
       "Page_Views             10\n",
       "Source                  4\n",
       "Medium                  4\n",
       "Campaign                3\n",
       "Device_Category         3\n",
       "Country                 7\n",
       "New_User                2\n",
       "Conversions             4\n",
       "Revenue               252\n",
       "dtype: int64"
      ]
     },
     "execution_count": 81,
     "metadata": {},
     "output_type": "execute_result"
    }
   ],
   "source": [
    "df.nunique()"
   ]
  },
  {
   "cell_type": "code",
   "execution_count": 82,
   "id": "cfeb88c4-2fc3-4f26-b572-9cfb61920fae",
   "metadata": {},
   "outputs": [
    {
     "data": {
      "text/plain": [
       "Campaign    2490\n",
       "dtype: int64"
      ]
     },
     "execution_count": 82,
     "metadata": {},
     "output_type": "execute_result"
    }
   ],
   "source": [
    "#amount of missing data in the dataset \n",
    "missing_counts = df.isna().sum()\n",
    "missing_data = missing_counts[missing_counts > 0]\n",
    "missing_data"
   ]
  },
  {
   "cell_type": "code",
   "execution_count": 83,
   "id": "d403427c-aa72-40c8-b9e7-831c10dc5715",
   "metadata": {},
   "outputs": [
    {
     "data": {
      "text/plain": [
       "0       False\n",
       "1       False\n",
       "2       False\n",
       "3       False\n",
       "4       False\n",
       "        ...  \n",
       "9995    False\n",
       "9996    False\n",
       "9997    False\n",
       "9998    False\n",
       "9999    False\n",
       "Length: 10000, dtype: bool"
      ]
     },
     "execution_count": 83,
     "metadata": {},
     "output_type": "execute_result"
    }
   ],
   "source": [
    "df.duplicated()"
   ]
  },
  {
   "cell_type": "code",
   "execution_count": 84,
   "id": "512ce26b-d31a-4eee-9e8c-3badef7146ef",
   "metadata": {},
   "outputs": [
    {
     "name": "stdout",
     "output_type": "stream",
     "text": [
      "Date                 0.0\n",
      "User_ID              0.0\n",
      "Session_Duration     0.0\n",
      "Page_Views           0.0\n",
      "Source               0.0\n",
      "Medium               0.0\n",
      "Campaign            24.9\n",
      "Device_Category      0.0\n",
      "Country              0.0\n",
      "New_User             0.0\n",
      "Conversions          0.0\n",
      "Revenue              0.0\n",
      "dtype: float64\n"
     ]
    }
   ],
   "source": [
    "#observerd missing data by percent \n",
    "missing_pct = round(df.isnull().sum() / len(df) * 100, 1)\n",
    "print(missing_pct)"
   ]
  },
  {
   "cell_type": "code",
   "execution_count": 85,
   "id": "c54cefe1-fe3c-4a26-8699-847f3226ae07",
   "metadata": {},
   "outputs": [],
   "source": [
    "#i Further Investigated Missing Data\n",
    "#Sometimes, investigating why the  data is missing can reveal patterns or errors that can be addressed.\n"
   ]
  },
  {
   "cell_type": "code",
   "execution_count": 86,
   "id": "4155e643-0581-4c93-b378-d2c07dc47ac1",
   "metadata": {},
   "outputs": [
    {
     "name": "stdout",
     "output_type": "stream",
     "text": [
      "Date\n",
      "6/1/2023      80\n",
      "6/10/2023     74\n",
      "6/11/2023     89\n",
      "6/12/2023     91\n",
      "6/13/2023     97\n",
      "6/14/2023     93\n",
      "6/15/2023     76\n",
      "6/16/2023     95\n",
      "6/17/2023     72\n",
      "6/18/2023     78\n",
      "6/19/2023     87\n",
      "6/2/2023      70\n",
      "6/20/2023     79\n",
      "6/21/2023     69\n",
      "6/22/2023     86\n",
      "6/23/2023     63\n",
      "6/24/2023     75\n",
      "6/25/2023     93\n",
      "6/26/2023     94\n",
      "6/27/2023     82\n",
      "6/28/2023     91\n",
      "6/29/2023    100\n",
      "6/3/2023      87\n",
      "6/30/2023     74\n",
      "6/4/2023      82\n",
      "6/5/2023      71\n",
      "6/6/2023      80\n",
      "6/7/2023     100\n",
      "6/8/2023      80\n",
      "6/9/2023      82\n",
      "dtype: int64\n"
     ]
    }
   ],
   "source": [
    "# checking if the missing Campaign values are concentrated around specific dates.\n",
    "missing_by_date = df[df['Campaign'].isna()].groupby('Date').size()\n",
    "print(missing_by_date)"
   ]
  },
  {
   "cell_type": "code",
   "execution_count": 87,
   "id": "c0de3347-b1e9-480f-b4a2-021ca319ae64",
   "metadata": {},
   "outputs": [
    {
     "name": "stdout",
     "output_type": "stream",
     "text": [
      "Source    Medium        \n",
      "Direct    Direct            167\n",
      "          Organic Search    157\n",
      "          Referral          141\n",
      "          Social Media      148\n",
      "Organic   Direct            168\n",
      "          Organic Search    148\n",
      "          Referral          145\n",
      "          Social Media      159\n",
      "Referral  Direct            151\n",
      "          Organic Search    160\n",
      "          Referral          135\n",
      "          Social Media      156\n",
      "Social    Direct            166\n",
      "          Organic Search    181\n",
      "          Referral          168\n",
      "          Social Media      140\n",
      "dtype: int64\n"
     ]
    }
   ],
   "source": [
    "# Count missing 'Campaign' values by 'Source' and 'Medium'\n",
    "missing_by_source = df[df['Campaign'].isna()].groupby(['Source', 'Medium']).size()\n",
    "print(missing_by_source)"
   ]
  },
  {
   "cell_type": "code",
   "execution_count": 88,
   "id": "627d624b-c7b3-4366-98b8-5a01a8445f5e",
   "metadata": {},
   "outputs": [
    {
     "name": "stdout",
     "output_type": "stream",
     "text": [
      "Missing Campaign Metrics:\n",
      "        Session_Duration   Page_Views\n",
      "count       2490.000000  2490.000000\n",
      "mean         326.843775     5.492771\n",
      "std          156.649643     2.888192\n",
      "min           60.000000     1.000000\n",
      "25%          188.000000     3.000000\n",
      "50%          326.000000     5.000000\n",
      "75%          460.000000     8.000000\n",
      "max          600.000000    10.000000\n",
      "Non-Missing Campaign Metrics:\n",
      "        Session_Duration   Page_Views\n",
      "count       7510.000000  7510.000000\n",
      "mean         333.167510     5.448336\n",
      "std          155.046967     2.858203\n",
      "min           60.000000     1.000000\n",
      "25%          199.000000     3.000000\n",
      "50%          336.000000     5.000000\n",
      "75%          466.000000     8.000000\n",
      "max          600.000000    10.000000\n"
     ]
    }
   ],
   "source": [
    "# Compare summary statistics of 'Session_Duration' and 'Page_Views' for missing vs non-missing 'Campaign'\n",
    "missing_metrics = df[df['Campaign'].isna()][['Session_Duration', 'Page_Views']].describe()\n",
    "non_missing_metrics = df[df['Campaign'].notna()][['Session_Duration', 'Page_Views']].describe()\n",
    "\n",
    "print(\"Missing Campaign Metrics:\\n\", missing_metrics)\n",
    "print(\"Non-Missing Campaign Metrics:\\n\", non_missing_metrics)"
   ]
  },
  {
   "cell_type": "code",
   "execution_count": 89,
   "id": "441c25c5-b983-497d-94a7-083488fa40c4",
   "metadata": {},
   "outputs": [
    {
     "name": "stdout",
     "output_type": "stream",
     "text": [
      "Device_Category  Country  \n",
      "Desktop          Australia    119\n",
      "                 Canada        97\n",
      "                 France       104\n",
      "                 Germany      124\n",
      "                 India        108\n",
      "                 UK           144\n",
      "                 USA          122\n",
      "Mobile           Australia    120\n",
      "                 Canada       135\n",
      "                 France       108\n",
      "                 Germany      114\n",
      "                 India        128\n",
      "                 UK           131\n",
      "                 USA          115\n",
      "Tablet           Australia    143\n",
      "                 Canada       101\n",
      "                 France       110\n",
      "                 Germany      102\n",
      "                 India        119\n",
      "                 UK           124\n",
      "                 USA          122\n",
      "dtype: int64\n"
     ]
    }
   ],
   "source": [
    "# Count missing 'Campaign' values by 'Device_Category' and 'Country'\n",
    "missing_by_device = df[df['Campaign'].isna()].groupby(['Device_Category', 'Country']).size()\n",
    "print(missing_by_device)"
   ]
  },
  {
   "cell_type": "code",
   "execution_count": 90,
   "id": "5b061695-7f45-4d6b-a4a7-23ef5c8e52da",
   "metadata": {},
   "outputs": [],
   "source": [
    "df = df.assign(Campaign=df['Campaign'].fillna('Unknown'))"
   ]
  },
  {
   "cell_type": "code",
   "execution_count": 91,
   "id": "ab65d4f5-7039-48b4-8b30-9828354b5089",
   "metadata": {},
   "outputs": [
    {
     "name": "stdout",
     "output_type": "stream",
     "text": [
      "Missing Campaign data : 0\n"
     ]
    }
   ],
   "source": [
    "missing_camp = df['Campaign'].isna().sum()\n",
    "print(\"Missing Campaign data :\", missing_camp)\n"
   ]
  },
  {
   "cell_type": "code",
   "execution_count": 92,
   "id": "a7d256c6-b5ba-430c-8f23-2af8337bae97",
   "metadata": {},
   "outputs": [],
   "source": [
    "# Convert the 'Date' column to datetime format\n",
    "df['Date'] = pd.to_datetime(df['Date'], format='%m/%d/%Y')\n",
    "\n"
   ]
  },
  {
   "cell_type": "code",
   "execution_count": 93,
   "id": "4cd1503a-67b7-4ede-8528-3331d6f7dc03",
   "metadata": {},
   "outputs": [],
   "source": [
    "# Creating new columns for da week and month\n",
    "df['Day'] = df['Date'].dt.day\n",
    "df['Week'] = df['Date'].dt.isocalendar().week  \n",
    "df['Month'] = df['Date'].dt.month\n",
    "\n"
   ]
  },
  {
   "cell_type": "code",
   "execution_count": 94,
   "id": "21e18c35-6f35-464e-92b8-1dbbbb4708b1",
   "metadata": {},
   "outputs": [],
   "source": [
    " # 1 User Engagement Analysis"
   ]
  },
  {
   "cell_type": "code",
   "execution_count": 95,
   "id": "4c89d808-be80-4c8f-b716-a53e6ebe5d56",
   "metadata": {},
   "outputs": [
    {
     "data": {
      "text/html": [
       "<div>\n",
       "<style scoped>\n",
       "    .dataframe tbody tr th:only-of-type {\n",
       "        vertical-align: middle;\n",
       "    }\n",
       "\n",
       "    .dataframe tbody tr th {\n",
       "        vertical-align: top;\n",
       "    }\n",
       "\n",
       "    .dataframe thead th {\n",
       "        text-align: right;\n",
       "    }\n",
       "</style>\n",
       "<table border=\"1\" class=\"dataframe\">\n",
       "  <thead>\n",
       "    <tr style=\"text-align: right;\">\n",
       "      <th></th>\n",
       "      <th>Campaign</th>\n",
       "      <th>Device_Category</th>\n",
       "      <th>Source</th>\n",
       "      <th>Avg_Session_Duration</th>\n",
       "      <th>Avg_Page_Views</th>\n",
       "    </tr>\n",
       "  </thead>\n",
       "  <tbody>\n",
       "    <tr>\n",
       "      <th>0</th>\n",
       "      <td>Spring Promo</td>\n",
       "      <td>Desktop</td>\n",
       "      <td>Direct</td>\n",
       "      <td>344.870536</td>\n",
       "      <td>5.361607</td>\n",
       "    </tr>\n",
       "    <tr>\n",
       "      <th>1</th>\n",
       "      <td>Spring Promo</td>\n",
       "      <td>Desktop</td>\n",
       "      <td>Organic</td>\n",
       "      <td>320.722222</td>\n",
       "      <td>5.782828</td>\n",
       "    </tr>\n",
       "    <tr>\n",
       "      <th>2</th>\n",
       "      <td>Spring Promo</td>\n",
       "      <td>Desktop</td>\n",
       "      <td>Referral</td>\n",
       "      <td>334.579208</td>\n",
       "      <td>5.648515</td>\n",
       "    </tr>\n",
       "    <tr>\n",
       "      <th>3</th>\n",
       "      <td>Spring Promo</td>\n",
       "      <td>Desktop</td>\n",
       "      <td>Social</td>\n",
       "      <td>327.641148</td>\n",
       "      <td>5.846890</td>\n",
       "    </tr>\n",
       "    <tr>\n",
       "      <th>4</th>\n",
       "      <td>Spring Promo</td>\n",
       "      <td>Mobile</td>\n",
       "      <td>Direct</td>\n",
       "      <td>341.159204</td>\n",
       "      <td>5.547264</td>\n",
       "    </tr>\n",
       "  </tbody>\n",
       "</table>\n",
       "</div>"
      ],
      "text/plain": [
       "       Campaign Device_Category    Source  Avg_Session_Duration  \\\n",
       "0  Spring Promo         Desktop    Direct            344.870536   \n",
       "1  Spring Promo         Desktop   Organic            320.722222   \n",
       "2  Spring Promo         Desktop  Referral            334.579208   \n",
       "3  Spring Promo         Desktop    Social            327.641148   \n",
       "4  Spring Promo          Mobile    Direct            341.159204   \n",
       "\n",
       "   Avg_Page_Views  \n",
       "0        5.361607  \n",
       "1        5.782828  \n",
       "2        5.648515  \n",
       "3        5.846890  \n",
       "4        5.547264  "
      ]
     },
     "execution_count": 95,
     "metadata": {},
     "output_type": "execute_result"
    }
   ],
   "source": [
    "# Group data and calculate average session duration and page views\n",
    "avg_metrics = df.groupby(['Campaign', 'Device_Category', 'Source']).agg({\n",
    "    'Session_Duration': 'mean',\n",
    "    'Page_Views': 'mean'\n",
    "}).reset_index()\n",
    "\n",
    "# Rename columns to make it clear\n",
    "avg_metrics.rename(columns={'Session_Duration': 'Avg_Session_Duration', 'Page_Views': 'Avg_Page_Views'}, inplace=True)\n",
    "\n",
    "\n",
    "avg_metrics.head()\n"
   ]
  },
  {
   "cell_type": "code",
   "execution_count": 102,
   "id": "2353f85e-bca4-4cca-86c6-e170be27ccdc",
   "metadata": {},
   "outputs": [
    {
     "data": {
      "image/png": "[encoded data removed]",
      "text/plain": [
       "<Figure size 700x700 with 1 Axes>"
      ]
     },
     "metadata": {},
     "output_type": "display_data"
    },
    {
     "data": {
      "image/png": "[encoded data removed]",
      "text/plain": [
       "<Figure size 700x700 with 1 Axes>"
      ]
     },
     "metadata": {},
     "output_type": "display_data"
    }
   ],
   "source": [
    "\n",
    "# Plot average session duration by campaign and device category\n",
    "plt.figure(figsize=(7, 7))\n",
    "sns.barplot(data=avg_metrics, x='Campaign', y='Avg_Session_Duration', hue='Device_Category')\n",
    "plt.title('Avg Session Duration by Campaign & Device')\n",
    "plt.xticks(rotation=25)\n",
    "plt.legend(title='Device Category')\n",
    "plt.show()\n",
    "\n",
    "# Plot average page views by source and campaign\n",
    "plt.figure(figsize=(7, 7))\n",
    "sns.barplot(data=avg_metrics, x='Source', y='Avg_Page_Views', hue='Campaign')\n",
    "plt.title('Avg Page Views by Source & Campaign')\n",
    "plt.xticks(rotation=25)\n",
    "plt.legend(title='Campaign')\n",
    "plt.show()\n",
    "\n"
   ]
  },
  {
   "cell_type": "code",
   "execution_count": null,
   "id": "9f38e231-613a-4c7b-a52e-71d172c12e58",
   "metadata": {},
   "outputs": [],
   "source": [
    "#2 Campaign Performance Comparison"
   ]
  },
  {
   "cell_type": "code",
   "execution_count": 20,
   "id": "a04ec528-20d9-470a-9aa5-2614147a516f",
   "metadata": {},
   "outputs": [
    {
     "data": {
      "text/html": [
       "<div>\n",
       "<style scoped>\n",
       "    .dataframe tbody tr th:only-of-type {\n",
       "        vertical-align: middle;\n",
       "    }\n",
       "\n",
       "    .dataframe tbody tr th {\n",
       "        vertical-align: top;\n",
       "    }\n",
       "\n",
       "    .dataframe thead th {\n",
       "        text-align: right;\n",
       "    }\n",
       "</style>\n",
       "<table border=\"1\" class=\"dataframe\">\n",
       "  <thead>\n",
       "    <tr style=\"text-align: right;\">\n",
       "      <th></th>\n",
       "      <th>Campaign</th>\n",
       "      <th>Conversions</th>\n",
       "      <th>Page_Views</th>\n",
       "      <th>Revenue</th>\n",
       "      <th>Conversion_Rate</th>\n",
       "    </tr>\n",
       "  </thead>\n",
       "  <tbody>\n",
       "    <tr>\n",
       "      <th>0</th>\n",
       "      <td>Spring Promo</td>\n",
       "      <td>3904</td>\n",
       "      <td>13899</td>\n",
       "      <td>390949</td>\n",
       "      <td>28.088352</td>\n",
       "    </tr>\n",
       "    <tr>\n",
       "      <th>1</th>\n",
       "      <td>Summer Sale</td>\n",
       "      <td>3765</td>\n",
       "      <td>13481</td>\n",
       "      <td>380576</td>\n",
       "      <td>27.928195</td>\n",
       "    </tr>\n",
       "    <tr>\n",
       "      <th>3</th>\n",
       "      <td>Winter Campaign</td>\n",
       "      <td>3752</td>\n",
       "      <td>13537</td>\n",
       "      <td>374975</td>\n",
       "      <td>27.716628</td>\n",
       "    </tr>\n",
       "    <tr>\n",
       "      <th>2</th>\n",
       "      <td>Unknown</td>\n",
       "      <td>3665</td>\n",
       "      <td>13677</td>\n",
       "      <td>366289</td>\n",
       "      <td>26.796812</td>\n",
       "    </tr>\n",
       "  </tbody>\n",
       "</table>\n",
       "</div>"
      ],
      "text/plain": [
       "          Campaign  Conversions  Page_Views  Revenue  Conversion_Rate\n",
       "0     Spring Promo         3904       13899   390949        28.088352\n",
       "1      Summer Sale         3765       13481   380576        27.928195\n",
       "3  Winter Campaign         3752       13537   374975        27.716628\n",
       "2          Unknown         3665       13677   366289        26.796812"
      ]
     },
     "execution_count": 20,
     "metadata": {},
     "output_type": "execute_result"
    }
   ],
   "source": [
    "# Group data by 'Campaign' to calculate total conversions, total sessions (page views), and total revenue per campaign\n",
    "campaign_summary = df.groupby('Campaign').agg({\n",
    "    'Conversions': 'sum',\n",
    "    'Page_Views': 'sum',  # lets say Page_Views represents the total sessions for conversion rate calculation\n",
    "    'Revenue': 'sum'\n",
    "}).reset_index()\n",
    "\n",
    "# Calculate conversion rate per campaign\n",
    "campaign_summary['Conversion_Rate'] = (campaign_summary['Conversions'] / campaign_summary['Page_Views']) * 100\n",
    "\n",
    "# Round up revenue values to nearest whole number and format with commas for easier readability\n",
    "campaign_summary['Revenue'] = campaign_summary['Revenue'].apply(lambda x: round(x))\n",
    "\n",
    "# Sort campaigns by Conversion Rate and Revenue for better visualization\n",
    "campaign_summary = campaign_summary.sort_values(by=['Conversion_Rate', 'Revenue'], ascending=[False, False])\n",
    "\n",
    "\n",
    "\n",
    "campaign_summary.head()\n"
   ]
  },
  {
   "cell_type": "code",
   "execution_count": 98,
   "id": "f1e8028b-9314-4615-9ba8-ba4e0a3db374",
   "metadata": {},
   "outputs": [
    {
     "data": {
      "image/png": "[encoded data removed]",
      "text/plain": [
       "<Figure size 1000x600 with 1 Axes>"
      ]
     },
     "metadata": {},
     "output_type": "display_data"
    },
    {
     "data": {
      "image/png": "[encoded data removed]",
      "text/plain": [
       "<Figure size 1000x600 with 1 Axes>"
      ]
     },
     "metadata": {},
     "output_type": "display_data"
    }
   ],
   "source": [
    "\n",
    "# Plot Conversion Rate by Campaign\n",
    "plt.figure(figsize=(10, 6))\n",
    "sns.barplot(x='Campaign', y='Conversion_Rate', data=campaign_summary, hue='Campaign', dodge=False, palette='viridis', legend=False)\n",
    "plt.title('Conversion Rate by Campaign')\n",
    "plt.xlabel('Campaign')\n",
    "plt.ylabel('Conversion Rate (%)')\n",
    "plt.xticks(rotation=25)\n",
    "plt.show()\n",
    "\n",
    "# Plot Revenue by Campaign\n",
    "plt.figure(figsize=(10, 6))\n",
    "sns.barplot(x='Campaign', y='Revenue', data=campaign_summary, hue='Campaign', dodge=False, palette='viridis', legend=False)\n",
    "plt.title('Revenue by Campaign')\n",
    "plt.xlabel('Campaign')\n",
    "plt.ylabel('Revenue ($)')\n",
    "plt.xticks(rotation=25)\n",
    "plt.show()"
   ]
  },
  {
   "cell_type": "code",
   "execution_count": null,
   "id": "8481dd02-589e-42b5-99ad-0a6fe4a70861",
   "metadata": {},
   "outputs": [],
   "source": [
    "# 3 Device Category Insights"
   ]
  },
  {
   "cell_type": "code",
   "execution_count": 22,
   "id": "473aacd1-c61f-458c-a7cf-60ebae6ebba2",
   "metadata": {},
   "outputs": [
    {
     "data": {
      "text/html": [
       "<div>\n",
       "<style scoped>\n",
       "    .dataframe tbody tr th:only-of-type {\n",
       "        vertical-align: middle;\n",
       "    }\n",
       "\n",
       "    .dataframe tbody tr th {\n",
       "        vertical-align: top;\n",
       "    }\n",
       "\n",
       "    .dataframe thead th {\n",
       "        text-align: right;\n",
       "    }\n",
       "</style>\n",
       "<table border=\"1\" class=\"dataframe\">\n",
       "  <thead>\n",
       "    <tr style=\"text-align: right;\">\n",
       "      <th></th>\n",
       "      <th>Device_Category</th>\n",
       "      <th>Conversions</th>\n",
       "      <th>Page_Views</th>\n",
       "      <th>Session_Duration</th>\n",
       "      <th>Conversion_Rate</th>\n",
       "    </tr>\n",
       "  </thead>\n",
       "  <tbody>\n",
       "    <tr>\n",
       "      <th>0</th>\n",
       "      <td>Desktop</td>\n",
       "      <td>4967</td>\n",
       "      <td>18080</td>\n",
       "      <td>331.215728</td>\n",
       "      <td>27.472345</td>\n",
       "    </tr>\n",
       "    <tr>\n",
       "      <th>1</th>\n",
       "      <td>Mobile</td>\n",
       "      <td>5205</td>\n",
       "      <td>18493</td>\n",
       "      <td>334.832895</td>\n",
       "      <td>28.145785</td>\n",
       "    </tr>\n",
       "    <tr>\n",
       "      <th>2</th>\n",
       "      <td>Tablet</td>\n",
       "      <td>4914</td>\n",
       "      <td>18021</td>\n",
       "      <td>328.613781</td>\n",
       "      <td>27.268187</td>\n",
       "    </tr>\n",
       "  </tbody>\n",
       "</table>\n",
       "</div>"
      ],
      "text/plain": [
       "  Device_Category  Conversions  Page_Views  Session_Duration  Conversion_Rate\n",
       "0         Desktop         4967       18080        331.215728        27.472345\n",
       "1          Mobile         5205       18493        334.832895        28.145785\n",
       "2          Tablet         4914       18021        328.613781        27.268187"
      ]
     },
     "execution_count": 22,
     "metadata": {},
     "output_type": "execute_result"
    }
   ],
   "source": [
    "\n",
    "# Group data by Device Category to calculate total conversions, total sessions, and average session duration\n",
    "device_summary = df.groupby('Device_Category').agg({\n",
    "    'Conversions': 'sum',\n",
    "    'Page_Views': 'sum',          #  Page_Views represents total sessions\n",
    "    'Session_Duration': 'mean'    # then i Calculate the average session duratio\n",
    "}).reset_index()\n",
    "\n",
    "# Calculate conversion rate per device category\n",
    "device_summary['Conversion_Rate'] = (device_summary['Conversions'] / device_summary['Page_Views']) * 100\n",
    "\n",
    "device_summary\n",
    "\n"
   ]
  },
  {
   "cell_type": "code",
   "execution_count": 99,
   "id": "dd1d0b29-d09f-40e2-bce3-c85fe6ae6e8b",
   "metadata": {},
   "outputs": [
    {
     "data": {
      "image/png": "[encoded data removed]",
      "text/plain": [
       "<Figure size 700x600 with 1 Axes>"
      ]
     },
     "metadata": {},
     "output_type": "display_data"
    }
   ],
   "source": [
    "\n",
    "# Scatter plot to compare Conversion Rate and Average Session Duration by Device Category\n",
    "plt.figure(figsize=(7, 6))\n",
    "\n",
    "sns.scatterplot(\n",
    "    x='Conversion_Rate',\n",
    "    y='Session_Duration',\n",
    "    data=device_summary,\n",
    "    hue='Device_Category',  \n",
    "    s=100,  \n",
    "    palette='viridis'\n",
    ")\n",
    "\n",
    "\n",
    "plt.title(\"Conversion Rate vs. Average Session Duration by Device Category\")\n",
    "plt.xlabel(\"Conversion Rate (%)\")\n",
    "plt.ylabel(\"Average Session Duration (seconds)\")\n",
    "plt.legend(title=\"Device Category\")\n",
    "plt.grid(True)\n",
    "\n",
    "plt.show()\n"
   ]
  },
  {
   "cell_type": "code",
   "execution_count": null,
   "id": "32a9cd85-082d-4da5-850f-d3aa69c21d39",
   "metadata": {},
   "outputs": [],
   "source": [
    "# 4 Source and Medium Traffic Effectiveness"
   ]
  },
  {
   "cell_type": "code",
   "execution_count": 75,
   "id": "9510f32f-57d9-4978-8fd2-8e012a04f5e8",
   "metadata": {},
   "outputs": [
    {
     "data": {
      "text/html": [
       "<div>\n",
       "<style scoped>\n",
       "    .dataframe tbody tr th:only-of-type {\n",
       "        vertical-align: middle;\n",
       "    }\n",
       "\n",
       "    .dataframe tbody tr th {\n",
       "        vertical-align: top;\n",
       "    }\n",
       "\n",
       "    .dataframe thead th {\n",
       "        text-align: right;\n",
       "    }\n",
       "</style>\n",
       "<table border=\"1\" class=\"dataframe\">\n",
       "  <thead>\n",
       "    <tr style=\"text-align: right;\">\n",
       "      <th></th>\n",
       "      <th>Source</th>\n",
       "      <th>Medium</th>\n",
       "      <th>Conversions</th>\n",
       "      <th>Revenue</th>\n",
       "      <th>Page_Views</th>\n",
       "      <th>Sessions</th>\n",
       "      <th>Conversion_Rate</th>\n",
       "    </tr>\n",
       "  </thead>\n",
       "  <tbody>\n",
       "    <tr>\n",
       "      <th>0</th>\n",
       "      <td>Direct</td>\n",
       "      <td>Direct</td>\n",
       "      <td>979</td>\n",
       "      <td>99301</td>\n",
       "      <td>3571</td>\n",
       "      <td>3571</td>\n",
       "      <td>27.415290</td>\n",
       "    </tr>\n",
       "    <tr>\n",
       "      <th>1</th>\n",
       "      <td>Direct</td>\n",
       "      <td>Organic Search</td>\n",
       "      <td>993</td>\n",
       "      <td>96217</td>\n",
       "      <td>3472</td>\n",
       "      <td>3472</td>\n",
       "      <td>28.600230</td>\n",
       "    </tr>\n",
       "    <tr>\n",
       "      <th>2</th>\n",
       "      <td>Direct</td>\n",
       "      <td>Referral</td>\n",
       "      <td>965</td>\n",
       "      <td>96698</td>\n",
       "      <td>3485</td>\n",
       "      <td>3485</td>\n",
       "      <td>27.690100</td>\n",
       "    </tr>\n",
       "    <tr>\n",
       "      <th>3</th>\n",
       "      <td>Direct</td>\n",
       "      <td>Social Media</td>\n",
       "      <td>896</td>\n",
       "      <td>89942</td>\n",
       "      <td>3359</td>\n",
       "      <td>3359</td>\n",
       "      <td>26.674606</td>\n",
       "    </tr>\n",
       "    <tr>\n",
       "      <th>4</th>\n",
       "      <td>Organic</td>\n",
       "      <td>Direct</td>\n",
       "      <td>977</td>\n",
       "      <td>96804</td>\n",
       "      <td>3719</td>\n",
       "      <td>3719</td>\n",
       "      <td>26.270503</td>\n",
       "    </tr>\n",
       "  </tbody>\n",
       "</table>\n",
       "</div>"
      ],
      "text/plain": [
       "    Source          Medium  Conversions  Revenue  Page_Views  Sessions  \\\n",
       "0   Direct          Direct          979    99301        3571      3571   \n",
       "1   Direct  Organic Search          993    96217        3472      3472   \n",
       "2   Direct        Referral          965    96698        3485      3485   \n",
       "3   Direct    Social Media          896    89942        3359      3359   \n",
       "4  Organic          Direct          977    96804        3719      3719   \n",
       "\n",
       "   Conversion_Rate  \n",
       "0        27.415290  \n",
       "1        28.600230  \n",
       "2        27.690100  \n",
       "3        26.674606  \n",
       "4        26.270503  "
      ]
     },
     "execution_count": 75,
     "metadata": {},
     "output_type": "execute_result"
    }
   ],
   "source": [
    "\n",
    "# Group data by Source and Medium\n",
    "source_medium_summary = df.groupby(['Source', 'Medium']).agg({\n",
    "    'Conversions': 'sum',\n",
    "    'Revenue': 'sum',          # Total revenue for each Source and Medium\n",
    "    'Page_Views': 'sum'          # Total page views can be used as total sessions\n",
    "}).reset_index()\n",
    "\n",
    "# Calculate the total sessions if needed (using Page Views as a proxy)\n",
    "source_medium_summary['Sessions'] = source_medium_summary['Page_Views']\n",
    "\n",
    "# Calculate conversion rate\n",
    "source_medium_summary['Conversion_Rate'] = (source_medium_summary['Conversions'] / source_medium_summary['Sessions']) * 100\n",
    "\n",
    "\n",
    "source_medium_summary.head()"
   ]
  },
  {
   "cell_type": "code",
   "execution_count": null,
   "id": "07d1030c-9680-4a0f-a786-7b3220c33a3c",
   "metadata": {},
   "outputs": [],
   "source": [
    "# 5 Geographical Analysis"
   ]
  },
  {
   "cell_type": "code",
   "execution_count": 25,
   "id": "8cf1d2c3-3e44-4aa2-b1cf-0504c7a94379",
   "metadata": {},
   "outputs": [
    {
     "name": "stdout",
     "output_type": "stream",
     "text": [
      "     Country  Conversions  Revenue  Page_Views  Conversion_Rate\n",
      "0  Australia         2127   211675        7758        27.416860\n",
      "1     Canada         2208   222268        7893        27.974154\n",
      "2     France         2133   213288        7502        28.432418\n",
      "3    Germany         2160   220057        7683        28.114018\n",
      "4      India         2104   211313        7808        26.946721\n",
      "5         UK         2166   217592        8222        26.343955\n",
      "6        USA         2188   216596        7728        28.312629\n"
     ]
    }
   ],
   "source": [
    "# Grouping data by Country to calculate total conversions, total revenue, and sessions\n",
    "country_summary = df.groupby('Country').agg({\n",
    "    'Conversions': 'sum',\n",
    "    'Revenue': 'sum',\n",
    "    'Page_Views': 'sum'  \n",
    "}).reset_index()\n",
    "\n",
    "# Calculate conversion rate for each country\n",
    "country_summary['Conversion_Rate'] = (country_summary['Conversions'] / country_summary['Page_Views']) * 100\n",
    "\n",
    "\n",
    "print(country_summary)\n"
   ]
  },
  {
   "cell_type": "code",
   "execution_count": null,
   "id": "a0a77a75-094b-41f9-bd95-866fc18f6e1f",
   "metadata": {},
   "outputs": [],
   "source": [
    "# 6 New vs. Returning Users"
   ]
  },
  {
   "cell_type": "code",
   "execution_count": 26,
   "id": "9370b91f-d65d-4062-b108-f139b6197eed",
   "metadata": {},
   "outputs": [
    {
     "name": "stdout",
     "output_type": "stream",
     "text": [
      "   Conversions  Revenue  Page_Views  Conversion_Rate  Average_Revenue  \\\n",
      "0         7576   760797       27797        27.254740       100.421990   \n",
      "1         7510   751992       26797        28.025525       100.132091   \n",
      "\n",
      "         User_Type  \n",
      "0  Returning Users  \n",
      "1        New Users  \n"
     ]
    }
   ],
   "source": [
    "# Group data by New_User to calculate total conversions, total revenue, and average revenue\n",
    "user_summary = df.groupby('New_User').agg({\n",
    "    'Conversions': 'sum',\n",
    "    'Revenue': 'sum',\n",
    "    'Page_Views': 'sum'  \n",
    "}).reset_index()\n",
    "\n",
    "# Calculate conversion rates\n",
    "user_summary['Conversion_Rate'] = (user_summary['Conversions'] / user_summary['Page_Views']) * 100\n",
    "\n",
    "# Calculate average revenue per conversion\n",
    "user_summary['Average_Revenue'] = user_summary['Revenue'] / user_summary['Conversions']\n",
    "\n",
    "# Rename for clarity\n",
    "user_summary['User_Type'] = user_summary['New_User'].map({1: 'New Users', 0: 'Returning Users'})\n",
    "\n",
    "# Drop the New_User column for clarity\n",
    "user_summary = user_summary.drop(columns=['New_User'])\n",
    "\n",
    "\n",
    "print(user_summary)\n"
   ]
  },
  {
   "cell_type": "code",
   "execution_count": 27,
   "id": "168e9bdf-af76-41af-9923-6e5311c586a1",
   "metadata": {},
   "outputs": [
    {
     "name": "stdout",
     "output_type": "stream",
     "text": [
      "Requirement already satisfied: scikit-learn in c:\\users\\amari\\appdata\\local\\programs\\python\\python313\\lib\\site-packages (1.5.2)\n",
      "Requirement already satisfied: numpy>=1.19.5 in c:\\users\\amari\\appdata\\local\\programs\\python\\python313\\lib\\site-packages (from scikit-learn) (2.1.2)\n",
      "Requirement already satisfied: scipy>=1.6.0 in c:\\users\\amari\\appdata\\local\\programs\\python\\python313\\lib\\site-packages (from scikit-learn) (1.14.1)\n",
      "Requirement already satisfied: joblib>=1.2.0 in c:\\users\\amari\\appdata\\local\\programs\\python\\python313\\lib\\site-packages (from scikit-learn) (1.4.2)\n",
      "Requirement already satisfied: threadpoolctl>=3.1.0 in c:\\users\\amari\\appdata\\local\\programs\\python\\python313\\lib\\site-packages (from scikit-learn) (3.5.0)\n",
      "Note: you may need to restart the kernel to use updated packages.\n"
     ]
    }
   ],
   "source": [
    "%pip install scikit-learn\n"
   ]
  },
  {
   "cell_type": "code",
   "execution_count": 42,
   "id": "8219080c-7d85-41a2-9942-ebe690039e98",
   "metadata": {},
   "outputs": [],
   "source": [
    "import pandas as pd\n",
    "from sklearn.model_selection import train_test_split\n",
    "from sklearn.compose import ColumnTransformer\n",
    "from sklearn.preprocessing import OneHotEncoder, StandardScaler\n",
    "from sklearn.impute import SimpleImputer\n",
    "from sklearn.linear_model import LogisticRegression\n",
    "from sklearn.pipeline import Pipeline\n",
    "from sklearn.metrics import accuracy_score, precision_score, recall_score\n",
    "\n"
   ]
  },
  {
   "cell_type": "code",
   "execution_count": 52,
   "id": "c965b940-9eba-431a-bc88-c5296a0fdd96",
   "metadata": {},
   "outputs": [],
   "source": [
    "required_columns = [\n",
    "    'Session_Duration', 'Page_Views', 'Campaign', 'Device_Category', \n",
    "    'Source', 'Medium', 'Conversions'\n",
    "]\n",
    "\n",
    "missing_columns = [col for col in required_columns if col not in df.columns]\n",
    "if missing_columns:\n",
    "    raise KeyError(f\"Missing columns in DataFrame: {missing_columns}\")\n",
    "else:\n",
    "    \"All required columns are present.\"\n",
    "\n"
   ]
  },
  {
   "cell_type": "code",
   "execution_count": 53,
   "id": "05fbf3da-5d5d-4ff3-9180-fde350dddbb2",
   "metadata": {},
   "outputs": [],
   "source": [
    "# Ensure 'Conversion_Binary' exists based on 'Conversions'\n",
    "if 'Conversion_Binary' not in df.columns:\n",
    "    df['Conversion_Binary'] = df['Conversions'].apply(lambda x: 1 if x > 0 else 0)\n",
    "else:\n",
    "    \"Column 'Conversion_Binary' already exists.\"\n",
    "\n"
   ]
  },
  {
   "cell_type": "code",
   "execution_count": 54,
   "id": "980cecf7-e9ac-4d21-8bb9-1bb43f29990a",
   "metadata": {},
   "outputs": [],
   "source": [
    "# Confirm feature and target columns before selection\n",
    "if 'Conversion_Binary' not in df.columns:\n",
    "    raise KeyError(\"'Conversion_Binary' column is missing.  check your data.\")\n",
    "\n",
    "features = df[['Session_Duration', 'Page_Views', 'Campaign', 'Device_Category', 'Source', 'Medium']]\n",
    "target = df['Conversion_Binary']\n",
    "\n"
   ]
  },
  {
   "cell_type": "code",
   "execution_count": 55,
   "id": "fa430461-f149-46c4-aae4-6e3fd31b8561",
   "metadata": {},
   "outputs": [],
   "source": [
    "numeric_features = ['Session_Duration', 'Page_Views']\n",
    "categorical_features = ['Campaign', 'Device_Category', 'Source', 'Medium']\n",
    "\n",
    "preprocessor = ColumnTransformer(\n",
    "    transformers=[\n",
    "        ('num', StandardScaler(), numeric_features),  \n",
    "        ('cat', OneHotEncoder(), categorical_features)\n",
    "    ]\n",
    ")\n",
    "\n"
   ]
  },
  {
   "cell_type": "code",
   "execution_count": 56,
   "id": "e0f6ea84-0799-40dc-9797-83bcd73b5d03",
   "metadata": {},
   "outputs": [],
   "source": [
    "pipeline = Pipeline(steps=[\n",
    "    ('preprocessor', preprocessor),\n",
    "    ('classifier', LogisticRegression(max_iter=1000))\n",
    "])\n"
   ]
  },
  {
   "cell_type": "code",
   "execution_count": 57,
   "id": "1680ea79-0082-41ae-9c84-af76bae70f82",
   "metadata": {},
   "outputs": [],
   "source": [
    "X_train, X_test, y_train, y_test = train_test_split(features, target, test_size=0.2, random_state=42)\n",
    "\n"
   ]
  },
  {
   "cell_type": "code",
   "execution_count": 58,
   "id": "4c8a8de4-a648-4b9e-8514-eccf76c1f85e",
   "metadata": {},
   "outputs": [
    {
     "data": {
      "text/plain": [
       "'Model training completed.'"
      ]
     },
     "execution_count": 58,
     "metadata": {},
     "output_type": "execute_result"
    }
   ],
   "source": [
    "pipeline.fit(X_train, y_train)\n",
    "\"Model training completed.\"\n",
    "\n"
   ]
  },
  {
   "cell_type": "code",
   "execution_count": 59,
   "id": "7da6a66a-ebd6-4c4c-81ee-f13af424d647",
   "metadata": {},
   "outputs": [
    {
     "data": {
      "text/plain": [
       "'Predictions made on test set.'"
      ]
     },
     "execution_count": 59,
     "metadata": {},
     "output_type": "execute_result"
    }
   ],
   "source": [
    "y_pred = pipeline.predict(X_test)\n",
    "\"Predictions made on test set.\"\n",
    "\n"
   ]
  },
  {
   "cell_type": "code",
   "execution_count": 60,
   "id": "12082745-7b33-4aff-b6b3-f724edb5c110",
   "metadata": {},
   "outputs": [
    {
     "data": {
      "text/plain": [
       "{'Accuracy': 0.7435,\n",
       " 'Precision': np.float64(0.7435),\n",
       " 'Recall': np.float64(1.0)}"
      ]
     },
     "execution_count": 60,
     "metadata": {},
     "output_type": "execute_result"
    }
   ],
   "source": [
    "results = {\n",
    "    'Accuracy': accuracy_score(y_test, y_pred),\n",
    "    'Precision': precision_score(y_test, y_pred),\n",
    "    'Recall': recall_score(y_test, y_pred)\n",
    "}\n",
    "\n",
    "results\n",
    "\n"
   ]
  }
 ],
 "metadata": {
  "kernelspec": {
   "display_name": "Python 3 (ipykernel)",
   "language": "python",
   "name": "python3"
  },
  "language_info": {
   "codemirror_mode": {
    "name": "ipython",
    "version": 3
   },
   "file_extension": ".py",
   "mimetype": "text/x-python",
   "name": "python",
   "nbconvert_exporter": "python",
   "pygments_lexer": "ipython3",
   "version": "3.13.1"
  }
 },
 "nbformat": 4,
 "nbformat_minor": 5
}
